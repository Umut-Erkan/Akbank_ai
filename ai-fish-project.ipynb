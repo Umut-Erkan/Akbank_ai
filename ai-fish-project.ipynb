{
 "cells": [
  {
   "cell_type": "code",
   "execution_count": 1,
   "id": "56c641d0",
   "metadata": {
    "execution": {
     "iopub.execute_input": "2024-10-23T16:39:53.325602Z",
     "iopub.status.busy": "2024-10-23T16:39:53.325117Z",
     "iopub.status.idle": "2024-10-23T16:40:11.686561Z",
     "shell.execute_reply": "2024-10-23T16:40:11.685240Z"
    },
    "papermill": {
     "duration": 18.379517,
     "end_time": "2024-10-23T16:40:11.690275",
     "exception": false,
     "start_time": "2024-10-23T16:39:53.310758",
     "status": "completed"
    },
    "tags": []
   },
   "outputs": [
    {
     "data": {
      "text/plain": [
       "['Hourse Mackerel',\n",
       " 'Black Sea Sprat',\n",
       " 'Sea Bass',\n",
       " 'Red Mullet',\n",
       " 'Trout',\n",
       " 'Striped Red Mullet',\n",
       " 'Shrimp',\n",
       " 'Gilt-Head Bream',\n",
       " 'Red Sea Bream']"
      ]
     },
     "execution_count": 1,
     "metadata": {},
     "output_type": "execute_result"
    }
   ],
   "source": [
    "import matplotlib.pyplot as plt\n",
    "import os\n",
    "import tensorflow as tf\n",
    "from tensorflow import keras\n",
    "import pandas as pd\n",
    "from sklearn.preprocessing import LabelEncoder, minmax_scale,OneHotEncoder\n",
    "from sklearn.model_selection import train_test_split\n",
    "import matplotlib.pyplot as plt\n",
    "from keras.optimizers import Adam\n",
    "import numpy as np\n",
    "from keras.preprocessing.image import load_img, img_to_array\n",
    "from tensorflow.keras.layers import Flatten,Dense\n",
    "from scipy.sparse import issparse\n",
    "\n",
    "data = \"/kaggle/input/a-large-scale-fish-dataset/Fish_Dataset/Fish_Dataset\"\n",
    "classes=[i for i in os.listdir(data) if \".\" not in i]\n",
    "classes"
   ]
  },
  {
   "cell_type": "code",
   "execution_count": 2,
   "id": "a066ab7d",
   "metadata": {
    "execution": {
     "iopub.execute_input": "2024-10-23T16:40:11.717048Z",
     "iopub.status.busy": "2024-10-23T16:40:11.715808Z",
     "iopub.status.idle": "2024-10-23T16:40:13.944731Z",
     "shell.execute_reply": "2024-10-23T16:40:13.943106Z"
    },
    "papermill": {
     "duration": 2.244809,
     "end_time": "2024-10-23T16:40:13.947606",
     "exception": false,
     "start_time": "2024-10-23T16:40:11.702797",
     "status": "completed"
    },
    "tags": []
   },
   "outputs": [
    {
     "data": {
      "text/html": [
       "<div>\n",
       "<style scoped>\n",
       "    .dataframe tbody tr th:only-of-type {\n",
       "        vertical-align: middle;\n",
       "    }\n",
       "\n",
       "    .dataframe tbody tr th {\n",
       "        vertical-align: top;\n",
       "    }\n",
       "\n",
       "    .dataframe thead th {\n",
       "        text-align: right;\n",
       "    }\n",
       "</style>\n",
       "<table border=\"1\" class=\"dataframe\">\n",
       "  <thead>\n",
       "    <tr style=\"text-align: right;\">\n",
       "      <th></th>\n",
       "      <th>path</th>\n",
       "      <th>label</th>\n",
       "    </tr>\n",
       "  </thead>\n",
       "  <tbody>\n",
       "    <tr>\n",
       "      <th>0</th>\n",
       "      <td>/kaggle/input/a-large-scale-fish-dataset/Fish_...</td>\n",
       "      <td>Hourse Mackerel</td>\n",
       "    </tr>\n",
       "    <tr>\n",
       "      <th>1</th>\n",
       "      <td>/kaggle/input/a-large-scale-fish-dataset/Fish_...</td>\n",
       "      <td>Hourse Mackerel</td>\n",
       "    </tr>\n",
       "    <tr>\n",
       "      <th>2</th>\n",
       "      <td>/kaggle/input/a-large-scale-fish-dataset/Fish_...</td>\n",
       "      <td>Hourse Mackerel</td>\n",
       "    </tr>\n",
       "    <tr>\n",
       "      <th>3</th>\n",
       "      <td>/kaggle/input/a-large-scale-fish-dataset/Fish_...</td>\n",
       "      <td>Hourse Mackerel</td>\n",
       "    </tr>\n",
       "    <tr>\n",
       "      <th>4</th>\n",
       "      <td>/kaggle/input/a-large-scale-fish-dataset/Fish_...</td>\n",
       "      <td>Hourse Mackerel</td>\n",
       "    </tr>\n",
       "  </tbody>\n",
       "</table>\n",
       "</div>"
      ],
      "text/plain": [
       "                                                path            label\n",
       "0  /kaggle/input/a-large-scale-fish-dataset/Fish_...  Hourse Mackerel\n",
       "1  /kaggle/input/a-large-scale-fish-dataset/Fish_...  Hourse Mackerel\n",
       "2  /kaggle/input/a-large-scale-fish-dataset/Fish_...  Hourse Mackerel\n",
       "3  /kaggle/input/a-large-scale-fish-dataset/Fish_...  Hourse Mackerel\n",
       "4  /kaggle/input/a-large-scale-fish-dataset/Fish_...  Hourse Mackerel"
      ]
     },
     "execution_count": 2,
     "metadata": {},
     "output_type": "execute_result"
    }
   ],
   "source": [
    "label=[]\n",
    "path=[]\n",
    "fish_dir = \"/kaggle/input/a-large-scale-fish-dataset/Fish_Dataset/Fish_Dataset\"\n",
    "for dir_name, _,filenames in os.walk(fish_dir):\n",
    "    for filename in filenames:\n",
    "        if os.path.splitext(filename)[-1]==\".png\":\n",
    "            if dir_name.split()[-1]!=\"GT\":\n",
    "                label.append(os.path.split(dir_name)[-1])\n",
    "                path.append(os.path.join(dir_name,filename))\n",
    "\n",
    "data = pd.DataFrame(columns=[\"path\" , \"label\"])\n",
    "data[\"path\"]=path\n",
    "data[\"label\"]=label\n",
    "\n",
    "data.head()"
   ]
  },
  {
   "cell_type": "code",
   "execution_count": 3,
   "id": "d8c8600d",
   "metadata": {
    "execution": {
     "iopub.execute_input": "2024-10-23T16:40:13.974334Z",
     "iopub.status.busy": "2024-10-23T16:40:13.973883Z",
     "iopub.status.idle": "2024-10-23T16:40:13.980569Z",
     "shell.execute_reply": "2024-10-23T16:40:13.979036Z"
    },
    "papermill": {
     "duration": 0.023401,
     "end_time": "2024-10-23T16:40:13.983023",
     "exception": false,
     "start_time": "2024-10-23T16:40:13.959622",
     "status": "completed"
    },
    "tags": []
   },
   "outputs": [],
   "source": [
    "x = data['path']  # Özellikler (görüntü yolları)\n",
    "y = data['label']  # Etiketler (balık türleri)"
   ]
  },
  {
   "cell_type": "markdown",
   "id": "3edd775f",
   "metadata": {
    "papermill": {
     "duration": 0.012386,
     "end_time": "2024-10-23T16:40:14.007016",
     "exception": false,
     "start_time": "2024-10-23T16:40:13.994630",
     "status": "completed"
    },
    "tags": []
   },
   "source": [
    "# veri önişleme"
   ]
  },
  {
   "cell_type": "code",
   "execution_count": 4,
   "id": "858a4136",
   "metadata": {
    "execution": {
     "iopub.execute_input": "2024-10-23T16:40:14.032328Z",
     "iopub.status.busy": "2024-10-23T16:40:14.031903Z",
     "iopub.status.idle": "2024-10-23T16:43:28.804806Z",
     "shell.execute_reply": "2024-10-23T16:43:28.803452Z"
    },
    "papermill": {
     "duration": 194.790031,
     "end_time": "2024-10-23T16:43:28.808657",
     "exception": false,
     "start_time": "2024-10-23T16:40:14.018626",
     "status": "completed"
    },
    "tags": []
   },
   "outputs": [],
   "source": [
    "def load_and_preprocess_image(image_path):\n",
    "    # Resmi yükle ve yeniden boyutlandır\n",
    "    img = load_img(image_path, target_size=(128, 128))  # 128x128 boyutuna getirelim\n",
    "    img_array = img_to_array(img) / 255.0  # Normalize et\n",
    "    return img_array\n",
    "\n",
    "\n",
    "images = np.array([load_and_preprocess_image(path) for path in x])"
   ]
  },
  {
   "cell_type": "code",
   "execution_count": 5,
   "id": "a57db735",
   "metadata": {
    "execution": {
     "iopub.execute_input": "2024-10-23T16:43:28.837437Z",
     "iopub.status.busy": "2024-10-23T16:43:28.836984Z",
     "iopub.status.idle": "2024-10-23T16:43:28.853927Z",
     "shell.execute_reply": "2024-10-23T16:43:28.852763Z"
    },
    "papermill": {
     "duration": 0.03255,
     "end_time": "2024-10-23T16:43:28.856563",
     "exception": false,
     "start_time": "2024-10-23T16:43:28.824013",
     "status": "completed"
    },
    "tags": []
   },
   "outputs": [
    {
     "data": {
      "text/plain": [
       "array([[[[0., 0., 0.],\n",
       "         [0., 0., 0.],\n",
       "         [0., 0., 0.],\n",
       "         ...,\n",
       "         [0., 0., 0.],\n",
       "         [0., 0., 0.],\n",
       "         [0., 0., 0.]],\n",
       "\n",
       "        [[0., 0., 0.],\n",
       "         [0., 0., 0.],\n",
       "         [0., 0., 0.],\n",
       "         ...,\n",
       "         [0., 0., 0.],\n",
       "         [0., 0., 0.],\n",
       "         [0., 0., 0.]],\n",
       "\n",
       "        [[0., 0., 0.],\n",
       "         [0., 0., 0.],\n",
       "         [0., 0., 0.],\n",
       "         ...,\n",
       "         [0., 0., 0.],\n",
       "         [0., 0., 0.],\n",
       "         [0., 0., 0.]],\n",
       "\n",
       "        ...,\n",
       "\n",
       "        [[0., 0., 0.],\n",
       "         [0., 0., 0.],\n",
       "         [0., 0., 0.],\n",
       "         ...,\n",
       "         [0., 0., 0.],\n",
       "         [0., 0., 0.],\n",
       "         [0., 0., 0.]],\n",
       "\n",
       "        [[0., 0., 0.],\n",
       "         [0., 0., 0.],\n",
       "         [0., 0., 0.],\n",
       "         ...,\n",
       "         [0., 0., 0.],\n",
       "         [0., 0., 0.],\n",
       "         [0., 0., 0.]],\n",
       "\n",
       "        [[0., 0., 0.],\n",
       "         [0., 0., 0.],\n",
       "         [0., 0., 0.],\n",
       "         ...,\n",
       "         [0., 0., 0.],\n",
       "         [0., 0., 0.],\n",
       "         [0., 0., 0.]]],\n",
       "\n",
       "\n",
       "       [[[0., 0., 0.],\n",
       "         [0., 0., 0.],\n",
       "         [0., 0., 0.],\n",
       "         ...,\n",
       "         [0., 0., 0.],\n",
       "         [0., 0., 0.],\n",
       "         [0., 0., 0.]],\n",
       "\n",
       "        [[0., 0., 0.],\n",
       "         [0., 0., 0.],\n",
       "         [0., 0., 0.],\n",
       "         ...,\n",
       "         [0., 0., 0.],\n",
       "         [0., 0., 0.],\n",
       "         [0., 0., 0.]],\n",
       "\n",
       "        [[0., 0., 0.],\n",
       "         [0., 0., 0.],\n",
       "         [0., 0., 0.],\n",
       "         ...,\n",
       "         [0., 0., 0.],\n",
       "         [0., 0., 0.],\n",
       "         [0., 0., 0.]],\n",
       "\n",
       "        ...,\n",
       "\n",
       "        [[0., 0., 0.],\n",
       "         [0., 0., 0.],\n",
       "         [0., 0., 0.],\n",
       "         ...,\n",
       "         [0., 0., 0.],\n",
       "         [0., 0., 0.],\n",
       "         [0., 0., 0.]],\n",
       "\n",
       "        [[0., 0., 0.],\n",
       "         [0., 0., 0.],\n",
       "         [0., 0., 0.],\n",
       "         ...,\n",
       "         [0., 0., 0.],\n",
       "         [0., 0., 0.],\n",
       "         [0., 0., 0.]],\n",
       "\n",
       "        [[0., 0., 0.],\n",
       "         [0., 0., 0.],\n",
       "         [0., 0., 0.],\n",
       "         ...,\n",
       "         [0., 0., 0.],\n",
       "         [0., 0., 0.],\n",
       "         [0., 0., 0.]]],\n",
       "\n",
       "\n",
       "       [[[0., 0., 0.],\n",
       "         [0., 0., 0.],\n",
       "         [0., 0., 0.],\n",
       "         ...,\n",
       "         [0., 0., 0.],\n",
       "         [0., 0., 0.],\n",
       "         [0., 0., 0.]],\n",
       "\n",
       "        [[0., 0., 0.],\n",
       "         [0., 0., 0.],\n",
       "         [0., 0., 0.],\n",
       "         ...,\n",
       "         [0., 0., 0.],\n",
       "         [0., 0., 0.],\n",
       "         [0., 0., 0.]],\n",
       "\n",
       "        [[0., 0., 0.],\n",
       "         [0., 0., 0.],\n",
       "         [0., 0., 0.],\n",
       "         ...,\n",
       "         [0., 0., 0.],\n",
       "         [0., 0., 0.],\n",
       "         [0., 0., 0.]],\n",
       "\n",
       "        ...,\n",
       "\n",
       "        [[0., 0., 0.],\n",
       "         [0., 0., 0.],\n",
       "         [0., 0., 0.],\n",
       "         ...,\n",
       "         [0., 0., 0.],\n",
       "         [0., 0., 0.],\n",
       "         [0., 0., 0.]],\n",
       "\n",
       "        [[0., 0., 0.],\n",
       "         [0., 0., 0.],\n",
       "         [0., 0., 0.],\n",
       "         ...,\n",
       "         [0., 0., 0.],\n",
       "         [0., 0., 0.],\n",
       "         [0., 0., 0.]],\n",
       "\n",
       "        [[0., 0., 0.],\n",
       "         [0., 0., 0.],\n",
       "         [0., 0., 0.],\n",
       "         ...,\n",
       "         [0., 0., 0.],\n",
       "         [0., 0., 0.],\n",
       "         [0., 0., 0.]]],\n",
       "\n",
       "\n",
       "       ...,\n",
       "\n",
       "\n",
       "       [[[0., 0., 0.],\n",
       "         [0., 0., 0.],\n",
       "         [0., 0., 0.],\n",
       "         ...,\n",
       "         [0., 0., 0.],\n",
       "         [0., 0., 0.],\n",
       "         [0., 0., 0.]],\n",
       "\n",
       "        [[0., 0., 0.],\n",
       "         [0., 0., 0.],\n",
       "         [0., 0., 0.],\n",
       "         ...,\n",
       "         [0., 0., 0.],\n",
       "         [0., 0., 0.],\n",
       "         [0., 0., 0.]],\n",
       "\n",
       "        [[0., 0., 0.],\n",
       "         [0., 0., 0.],\n",
       "         [0., 0., 0.],\n",
       "         ...,\n",
       "         [0., 0., 0.],\n",
       "         [0., 0., 0.],\n",
       "         [0., 0., 0.]],\n",
       "\n",
       "        ...,\n",
       "\n",
       "        [[0., 0., 0.],\n",
       "         [0., 0., 0.],\n",
       "         [0., 0., 0.],\n",
       "         ...,\n",
       "         [0., 0., 0.],\n",
       "         [0., 0., 0.],\n",
       "         [0., 0., 0.]],\n",
       "\n",
       "        [[0., 0., 0.],\n",
       "         [0., 0., 0.],\n",
       "         [0., 0., 0.],\n",
       "         ...,\n",
       "         [0., 0., 0.],\n",
       "         [0., 0., 0.],\n",
       "         [0., 0., 0.]],\n",
       "\n",
       "        [[0., 0., 0.],\n",
       "         [0., 0., 0.],\n",
       "         [0., 0., 0.],\n",
       "         ...,\n",
       "         [0., 0., 0.],\n",
       "         [0., 0., 0.],\n",
       "         [0., 0., 0.]]],\n",
       "\n",
       "\n",
       "       [[[0., 0., 0.],\n",
       "         [0., 0., 0.],\n",
       "         [0., 0., 0.],\n",
       "         ...,\n",
       "         [0., 0., 0.],\n",
       "         [0., 0., 0.],\n",
       "         [0., 0., 0.]],\n",
       "\n",
       "        [[0., 0., 0.],\n",
       "         [0., 0., 0.],\n",
       "         [0., 0., 0.],\n",
       "         ...,\n",
       "         [0., 0., 0.],\n",
       "         [0., 0., 0.],\n",
       "         [0., 0., 0.]],\n",
       "\n",
       "        [[0., 0., 0.],\n",
       "         [0., 0., 0.],\n",
       "         [0., 0., 0.],\n",
       "         ...,\n",
       "         [0., 0., 0.],\n",
       "         [0., 0., 0.],\n",
       "         [0., 0., 0.]],\n",
       "\n",
       "        ...,\n",
       "\n",
       "        [[0., 0., 0.],\n",
       "         [0., 0., 0.],\n",
       "         [0., 0., 0.],\n",
       "         ...,\n",
       "         [0., 0., 0.],\n",
       "         [0., 0., 0.],\n",
       "         [0., 0., 0.]],\n",
       "\n",
       "        [[0., 0., 0.],\n",
       "         [0., 0., 0.],\n",
       "         [0., 0., 0.],\n",
       "         ...,\n",
       "         [0., 0., 0.],\n",
       "         [0., 0., 0.],\n",
       "         [0., 0., 0.]],\n",
       "\n",
       "        [[0., 0., 0.],\n",
       "         [0., 0., 0.],\n",
       "         [0., 0., 0.],\n",
       "         ...,\n",
       "         [0., 0., 0.],\n",
       "         [0., 0., 0.],\n",
       "         [0., 0., 0.]]],\n",
       "\n",
       "\n",
       "       [[[0., 0., 0.],\n",
       "         [0., 0., 0.],\n",
       "         [0., 0., 0.],\n",
       "         ...,\n",
       "         [0., 0., 0.],\n",
       "         [0., 0., 0.],\n",
       "         [0., 0., 0.]],\n",
       "\n",
       "        [[0., 0., 0.],\n",
       "         [0., 0., 0.],\n",
       "         [0., 0., 0.],\n",
       "         ...,\n",
       "         [0., 0., 0.],\n",
       "         [0., 0., 0.],\n",
       "         [0., 0., 0.]],\n",
       "\n",
       "        [[0., 0., 0.],\n",
       "         [0., 0., 0.],\n",
       "         [0., 0., 0.],\n",
       "         ...,\n",
       "         [0., 0., 0.],\n",
       "         [0., 0., 0.],\n",
       "         [0., 0., 0.]],\n",
       "\n",
       "        ...,\n",
       "\n",
       "        [[0., 0., 0.],\n",
       "         [0., 0., 0.],\n",
       "         [0., 0., 0.],\n",
       "         ...,\n",
       "         [0., 0., 0.],\n",
       "         [0., 0., 0.],\n",
       "         [0., 0., 0.]],\n",
       "\n",
       "        [[0., 0., 0.],\n",
       "         [0., 0., 0.],\n",
       "         [0., 0., 0.],\n",
       "         ...,\n",
       "         [0., 0., 0.],\n",
       "         [0., 0., 0.],\n",
       "         [0., 0., 0.]],\n",
       "\n",
       "        [[0., 0., 0.],\n",
       "         [0., 0., 0.],\n",
       "         [0., 0., 0.],\n",
       "         ...,\n",
       "         [0., 0., 0.],\n",
       "         [0., 0., 0.],\n",
       "         [0., 0., 0.]]]], dtype=float32)"
      ]
     },
     "execution_count": 5,
     "metadata": {},
     "output_type": "execute_result"
    }
   ],
   "source": [
    "images"
   ]
  },
  {
   "cell_type": "code",
   "execution_count": 6,
   "id": "5755b6e1",
   "metadata": {
    "execution": {
     "iopub.execute_input": "2024-10-23T16:43:28.883202Z",
     "iopub.status.busy": "2024-10-23T16:43:28.882772Z",
     "iopub.status.idle": "2024-10-23T16:43:28.890284Z",
     "shell.execute_reply": "2024-10-23T16:43:28.889114Z"
    },
    "papermill": {
     "duration": 0.023875,
     "end_time": "2024-10-23T16:43:28.892802",
     "exception": false,
     "start_time": "2024-10-23T16:43:28.868927",
     "status": "completed"
    },
    "tags": []
   },
   "outputs": [
    {
     "data": {
      "text/plain": [
       "(9000, 128, 128, 3)"
      ]
     },
     "execution_count": 6,
     "metadata": {},
     "output_type": "execute_result"
    }
   ],
   "source": [
    "images.shape"
   ]
  },
  {
   "cell_type": "code",
   "execution_count": 7,
   "id": "9d571876",
   "metadata": {
    "execution": {
     "iopub.execute_input": "2024-10-23T16:43:28.919777Z",
     "iopub.status.busy": "2024-10-23T16:43:28.918797Z",
     "iopub.status.idle": "2024-10-23T16:43:28.925116Z",
     "shell.execute_reply": "2024-10-23T16:43:28.923930Z"
    },
    "papermill": {
     "duration": 0.022871,
     "end_time": "2024-10-23T16:43:28.927945",
     "exception": false,
     "start_time": "2024-10-23T16:43:28.905074",
     "status": "completed"
    },
    "tags": []
   },
   "outputs": [
    {
     "name": "stdout",
     "output_type": "stream",
     "text": [
      "Hourse Mackerel\n",
      "Hourse Mackerel\n",
      "Hourse Mackerel\n"
     ]
    }
   ],
   "source": [
    "for i in range(3):\n",
    "    print(y[i])"
   ]
  },
  {
   "cell_type": "markdown",
   "id": "78d2e053",
   "metadata": {
    "papermill": {
     "duration": 0.012065,
     "end_time": "2024-10-23T16:43:28.952230",
     "exception": false,
     "start_time": "2024-10-23T16:43:28.940165",
     "status": "completed"
    },
    "tags": []
   },
   "source": [
    "**Y yi numpy çevirme, reshape**"
   ]
  },
  {
   "cell_type": "code",
   "execution_count": 8,
   "id": "b13b6215",
   "metadata": {
    "execution": {
     "iopub.execute_input": "2024-10-23T16:43:28.978954Z",
     "iopub.status.busy": "2024-10-23T16:43:28.978170Z",
     "iopub.status.idle": "2024-10-23T16:43:28.985654Z",
     "shell.execute_reply": "2024-10-23T16:43:28.984593Z"
    },
    "papermill": {
     "duration": 0.023674,
     "end_time": "2024-10-23T16:43:28.988182",
     "exception": false,
     "start_time": "2024-10-23T16:43:28.964508",
     "status": "completed"
    },
    "tags": []
   },
   "outputs": [
    {
     "data": {
      "text/plain": [
       "pandas.core.series.Series"
      ]
     },
     "execution_count": 8,
     "metadata": {},
     "output_type": "execute_result"
    }
   ],
   "source": [
    "type(y)"
   ]
  },
  {
   "cell_type": "code",
   "execution_count": 9,
   "id": "95adb568",
   "metadata": {
    "execution": {
     "iopub.execute_input": "2024-10-23T16:43:29.015712Z",
     "iopub.status.busy": "2024-10-23T16:43:29.014640Z",
     "iopub.status.idle": "2024-10-23T16:43:29.020570Z",
     "shell.execute_reply": "2024-10-23T16:43:29.019200Z"
    },
    "papermill": {
     "duration": 0.022687,
     "end_time": "2024-10-23T16:43:29.023370",
     "exception": false,
     "start_time": "2024-10-23T16:43:29.000683",
     "status": "completed"
    },
    "tags": []
   },
   "outputs": [],
   "source": [
    "y=y.to_numpy()"
   ]
  },
  {
   "cell_type": "code",
   "execution_count": 10,
   "id": "c8b2436f",
   "metadata": {
    "execution": {
     "iopub.execute_input": "2024-10-23T16:43:29.051490Z",
     "iopub.status.busy": "2024-10-23T16:43:29.051012Z",
     "iopub.status.idle": "2024-10-23T16:43:29.058183Z",
     "shell.execute_reply": "2024-10-23T16:43:29.056900Z"
    },
    "papermill": {
     "duration": 0.024059,
     "end_time": "2024-10-23T16:43:29.060716",
     "exception": false,
     "start_time": "2024-10-23T16:43:29.036657",
     "status": "completed"
    },
    "tags": []
   },
   "outputs": [
    {
     "data": {
      "text/plain": [
       "numpy.ndarray"
      ]
     },
     "execution_count": 10,
     "metadata": {},
     "output_type": "execute_result"
    }
   ],
   "source": [
    "type(y)"
   ]
  },
  {
   "cell_type": "code",
   "execution_count": 11,
   "id": "7ebdece3",
   "metadata": {
    "execution": {
     "iopub.execute_input": "2024-10-23T16:43:29.088539Z",
     "iopub.status.busy": "2024-10-23T16:43:29.087564Z",
     "iopub.status.idle": "2024-10-23T16:43:29.094503Z",
     "shell.execute_reply": "2024-10-23T16:43:29.093506Z"
    },
    "papermill": {
     "duration": 0.023591,
     "end_time": "2024-10-23T16:43:29.096995",
     "exception": false,
     "start_time": "2024-10-23T16:43:29.073404",
     "status": "completed"
    },
    "tags": []
   },
   "outputs": [
    {
     "data": {
      "text/plain": [
       "(9000,)"
      ]
     },
     "execution_count": 11,
     "metadata": {},
     "output_type": "execute_result"
    }
   ],
   "source": [
    "y.shape"
   ]
  },
  {
   "cell_type": "code",
   "execution_count": 12,
   "id": "406a8b70",
   "metadata": {
    "execution": {
     "iopub.execute_input": "2024-10-23T16:43:29.124616Z",
     "iopub.status.busy": "2024-10-23T16:43:29.124130Z",
     "iopub.status.idle": "2024-10-23T16:43:29.129682Z",
     "shell.execute_reply": "2024-10-23T16:43:29.128327Z"
    },
    "papermill": {
     "duration": 0.022461,
     "end_time": "2024-10-23T16:43:29.132216",
     "exception": false,
     "start_time": "2024-10-23T16:43:29.109755",
     "status": "completed"
    },
    "tags": []
   },
   "outputs": [],
   "source": [
    "y=y.reshape(-1,1)"
   ]
  },
  {
   "cell_type": "code",
   "execution_count": 13,
   "id": "754e37c9",
   "metadata": {
    "execution": {
     "iopub.execute_input": "2024-10-23T16:43:29.160352Z",
     "iopub.status.busy": "2024-10-23T16:43:29.159936Z",
     "iopub.status.idle": "2024-10-23T16:43:29.167339Z",
     "shell.execute_reply": "2024-10-23T16:43:29.166260Z"
    },
    "papermill": {
     "duration": 0.024625,
     "end_time": "2024-10-23T16:43:29.169839",
     "exception": false,
     "start_time": "2024-10-23T16:43:29.145214",
     "status": "completed"
    },
    "tags": []
   },
   "outputs": [
    {
     "data": {
      "text/plain": [
       "(9000, 1)"
      ]
     },
     "execution_count": 13,
     "metadata": {},
     "output_type": "execute_result"
    }
   ],
   "source": [
    "y.shape"
   ]
  },
  {
   "cell_type": "code",
   "execution_count": 14,
   "id": "108000ec",
   "metadata": {
    "execution": {
     "iopub.execute_input": "2024-10-23T16:43:29.197647Z",
     "iopub.status.busy": "2024-10-23T16:43:29.197185Z",
     "iopub.status.idle": "2024-10-23T16:43:29.204435Z",
     "shell.execute_reply": "2024-10-23T16:43:29.203309Z"
    },
    "papermill": {
     "duration": 0.024183,
     "end_time": "2024-10-23T16:43:29.206836",
     "exception": false,
     "start_time": "2024-10-23T16:43:29.182653",
     "status": "completed"
    },
    "tags": []
   },
   "outputs": [
    {
     "data": {
      "text/plain": [
       "numpy.ndarray"
      ]
     },
     "execution_count": 14,
     "metadata": {},
     "output_type": "execute_result"
    }
   ],
   "source": [
    "type(y)"
   ]
  },
  {
   "cell_type": "markdown",
   "id": "9b47522f",
   "metadata": {
    "papermill": {
     "duration": 0.013045,
     "end_time": "2024-10-23T16:43:29.232933",
     "exception": false,
     "start_time": "2024-10-23T16:43:29.219888",
     "status": "completed"
    },
    "tags": []
   },
   "source": [
    "# Label verimizi encode etmek"
   ]
  },
  {
   "cell_type": "code",
   "execution_count": 15,
   "id": "5936ddcf",
   "metadata": {
    "execution": {
     "iopub.execute_input": "2024-10-23T16:43:29.261011Z",
     "iopub.status.busy": "2024-10-23T16:43:29.260609Z",
     "iopub.status.idle": "2024-10-23T16:43:29.271606Z",
     "shell.execute_reply": "2024-10-23T16:43:29.270448Z"
    },
    "papermill": {
     "duration": 0.027901,
     "end_time": "2024-10-23T16:43:29.274045",
     "exception": false,
     "start_time": "2024-10-23T16:43:29.246144",
     "status": "completed"
    },
    "tags": []
   },
   "outputs": [],
   "source": [
    "en=OneHotEncoder()\n",
    "\n",
    "y=en.fit_transform(y)"
   ]
  },
  {
   "cell_type": "markdown",
   "id": "68963df7",
   "metadata": {
    "papermill": {
     "duration": 0.01269,
     "end_time": "2024-10-23T16:43:29.299891",
     "exception": false,
     "start_time": "2024-10-23T16:43:29.287201",
     "status": "completed"
    },
    "tags": []
   },
   "source": [
    "# Veriyi Train-Val-Temporary ayırma"
   ]
  },
  {
   "cell_type": "code",
   "execution_count": 16,
   "id": "a7d0d1f0",
   "metadata": {
    "execution": {
     "iopub.execute_input": "2024-10-23T16:43:29.329167Z",
     "iopub.status.busy": "2024-10-23T16:43:29.328663Z",
     "iopub.status.idle": "2024-10-23T16:43:30.719462Z",
     "shell.execute_reply": "2024-10-23T16:43:30.717856Z"
    },
    "papermill": {
     "duration": 1.409503,
     "end_time": "2024-10-23T16:43:30.722726",
     "exception": false,
     "start_time": "2024-10-23T16:43:29.313223",
     "status": "completed"
    },
    "tags": []
   },
   "outputs": [
    {
     "name": "stdout",
     "output_type": "stream",
     "text": [
      "x_train:(7200, 128, 128, 3)\n",
      "x_val:(900, 128, 128, 3)\n",
      "y_train:(7200, 9)\n",
      "y_val:(900, 9)\n",
      "x_temporary:(900, 128, 128, 3)\n",
      "y_temporary:(900, 9)\n"
     ]
    }
   ],
   "source": [
    "x_train,x_val , y_train,y_val= train_test_split(images,y, test_size=0.2)\n",
    "x_val,x_temporary , y_val,y_temporary= train_test_split(x_val,y_val, test_size=0.5)\n",
    "\n",
    "print(f\"x_train:{x_train.shape}\\nx_val:{x_val.shape}\\ny_train:{y_train.shape}\\ny_val:{y_val.shape}\")\n",
    "print(f\"x_temporary:{x_temporary.shape}\\ny_temporary:{y_temporary.shape}\")"
   ]
  },
  {
   "cell_type": "markdown",
   "id": "937b57b1",
   "metadata": {
    "papermill": {
     "duration": 0.012862,
     "end_time": "2024-10-23T16:43:30.748870",
     "exception": false,
     "start_time": "2024-10-23T16:43:30.736008",
     "status": "completed"
    },
    "tags": []
   },
   "source": [
    "# Model oluşturma"
   ]
  },
  {
   "cell_type": "code",
   "execution_count": 17,
   "id": "21cf1743",
   "metadata": {
    "execution": {
     "iopub.execute_input": "2024-10-23T16:43:30.777326Z",
     "iopub.status.busy": "2024-10-23T16:43:30.776842Z",
     "iopub.status.idle": "2024-10-23T16:43:30.961962Z",
     "shell.execute_reply": "2024-10-23T16:43:30.960383Z"
    },
    "papermill": {
     "duration": 0.20263,
     "end_time": "2024-10-23T16:43:30.964601",
     "exception": false,
     "start_time": "2024-10-23T16:43:30.761971",
     "status": "completed"
    },
    "tags": []
   },
   "outputs": [
    {
     "name": "stderr",
     "output_type": "stream",
     "text": [
      "/opt/conda/lib/python3.10/site-packages/keras/src/layers/reshaping/flatten.py:37: UserWarning: Do not pass an `input_shape`/`input_dim` argument to a layer. When using Sequential models, prefer using an `Input(shape)` object as the first layer in the model instead.\n",
      "  super().__init__(**kwargs)\n"
     ]
    }
   ],
   "source": [
    "model = tf.keras.Sequential()\n",
    "model.add(Flatten(input_shape=(128,128,3)))\n",
    "\n",
    "model.add(Dense(128, activation='relu'))  # First hidden layer with 128 units\n",
    "model.add(Dense(64, activation='relu'))   # Second hidden layer with 64 units\n",
    "model.add(Dense(32, activation='relu'))\n",
    "\n",
    "model.add(Dense(9, activation='softmax')) #Output Layer"
   ]
  },
  {
   "cell_type": "code",
   "execution_count": 18,
   "id": "3c13cdeb",
   "metadata": {
    "execution": {
     "iopub.execute_input": "2024-10-23T16:43:30.993191Z",
     "iopub.status.busy": "2024-10-23T16:43:30.992672Z",
     "iopub.status.idle": "2024-10-23T16:43:31.022662Z",
     "shell.execute_reply": "2024-10-23T16:43:31.021390Z"
    },
    "papermill": {
     "duration": 0.047547,
     "end_time": "2024-10-23T16:43:31.025174",
     "exception": false,
     "start_time": "2024-10-23T16:43:30.977627",
     "status": "completed"
    },
    "tags": []
   },
   "outputs": [
    {
     "data": {
      "text/html": [
       "<pre style=\"white-space:pre;overflow-x:auto;line-height:normal;font-family:Menlo,'DejaVu Sans Mono',consolas,'Courier New',monospace\"><span style=\"font-weight: bold\">Model: \"sequential\"</span>\n",
       "</pre>\n"
      ],
      "text/plain": [
       "\u001b[1mModel: \"sequential\"\u001b[0m\n"
      ]
     },
     "metadata": {},
     "output_type": "display_data"
    },
    {
     "data": {
      "text/html": [
       "<pre style=\"white-space:pre;overflow-x:auto;line-height:normal;font-family:Menlo,'DejaVu Sans Mono',consolas,'Courier New',monospace\">┏━━━━━━━━━━━━━━━━━━━━━━━━━━━━━━━━━┳━━━━━━━━━━━━━━━━━━━━━━━━┳━━━━━━━━━━━━━━━┓\n",
       "┃<span style=\"font-weight: bold\"> Layer (type)                    </span>┃<span style=\"font-weight: bold\"> Output Shape           </span>┃<span style=\"font-weight: bold\">       Param # </span>┃\n",
       "┡━━━━━━━━━━━━━━━━━━━━━━━━━━━━━━━━━╇━━━━━━━━━━━━━━━━━━━━━━━━╇━━━━━━━━━━━━━━━┩\n",
       "│ flatten (<span style=\"color: #0087ff; text-decoration-color: #0087ff\">Flatten</span>)               │ (<span style=\"color: #00d7ff; text-decoration-color: #00d7ff\">None</span>, <span style=\"color: #00af00; text-decoration-color: #00af00\">49152</span>)          │             <span style=\"color: #00af00; text-decoration-color: #00af00\">0</span> │\n",
       "├─────────────────────────────────┼────────────────────────┼───────────────┤\n",
       "│ dense (<span style=\"color: #0087ff; text-decoration-color: #0087ff\">Dense</span>)                   │ (<span style=\"color: #00d7ff; text-decoration-color: #00d7ff\">None</span>, <span style=\"color: #00af00; text-decoration-color: #00af00\">128</span>)            │     <span style=\"color: #00af00; text-decoration-color: #00af00\">6,291,584</span> │\n",
       "├─────────────────────────────────┼────────────────────────┼───────────────┤\n",
       "│ dense_1 (<span style=\"color: #0087ff; text-decoration-color: #0087ff\">Dense</span>)                 │ (<span style=\"color: #00d7ff; text-decoration-color: #00d7ff\">None</span>, <span style=\"color: #00af00; text-decoration-color: #00af00\">64</span>)             │         <span style=\"color: #00af00; text-decoration-color: #00af00\">8,256</span> │\n",
       "├─────────────────────────────────┼────────────────────────┼───────────────┤\n",
       "│ dense_2 (<span style=\"color: #0087ff; text-decoration-color: #0087ff\">Dense</span>)                 │ (<span style=\"color: #00d7ff; text-decoration-color: #00d7ff\">None</span>, <span style=\"color: #00af00; text-decoration-color: #00af00\">32</span>)             │         <span style=\"color: #00af00; text-decoration-color: #00af00\">2,080</span> │\n",
       "├─────────────────────────────────┼────────────────────────┼───────────────┤\n",
       "│ dense_3 (<span style=\"color: #0087ff; text-decoration-color: #0087ff\">Dense</span>)                 │ (<span style=\"color: #00d7ff; text-decoration-color: #00d7ff\">None</span>, <span style=\"color: #00af00; text-decoration-color: #00af00\">9</span>)              │           <span style=\"color: #00af00; text-decoration-color: #00af00\">297</span> │\n",
       "└─────────────────────────────────┴────────────────────────┴───────────────┘\n",
       "</pre>\n"
      ],
      "text/plain": [
       "┏━━━━━━━━━━━━━━━━━━━━━━━━━━━━━━━━━┳━━━━━━━━━━━━━━━━━━━━━━━━┳━━━━━━━━━━━━━━━┓\n",
       "┃\u001b[1m \u001b[0m\u001b[1mLayer (type)                   \u001b[0m\u001b[1m \u001b[0m┃\u001b[1m \u001b[0m\u001b[1mOutput Shape          \u001b[0m\u001b[1m \u001b[0m┃\u001b[1m \u001b[0m\u001b[1m      Param #\u001b[0m\u001b[1m \u001b[0m┃\n",
       "┡━━━━━━━━━━━━━━━━━━━━━━━━━━━━━━━━━╇━━━━━━━━━━━━━━━━━━━━━━━━╇━━━━━━━━━━━━━━━┩\n",
       "│ flatten (\u001b[38;5;33mFlatten\u001b[0m)               │ (\u001b[38;5;45mNone\u001b[0m, \u001b[38;5;34m49152\u001b[0m)          │             \u001b[38;5;34m0\u001b[0m │\n",
       "├─────────────────────────────────┼────────────────────────┼───────────────┤\n",
       "│ dense (\u001b[38;5;33mDense\u001b[0m)                   │ (\u001b[38;5;45mNone\u001b[0m, \u001b[38;5;34m128\u001b[0m)            │     \u001b[38;5;34m6,291,584\u001b[0m │\n",
       "├─────────────────────────────────┼────────────────────────┼───────────────┤\n",
       "│ dense_1 (\u001b[38;5;33mDense\u001b[0m)                 │ (\u001b[38;5;45mNone\u001b[0m, \u001b[38;5;34m64\u001b[0m)             │         \u001b[38;5;34m8,256\u001b[0m │\n",
       "├─────────────────────────────────┼────────────────────────┼───────────────┤\n",
       "│ dense_2 (\u001b[38;5;33mDense\u001b[0m)                 │ (\u001b[38;5;45mNone\u001b[0m, \u001b[38;5;34m32\u001b[0m)             │         \u001b[38;5;34m2,080\u001b[0m │\n",
       "├─────────────────────────────────┼────────────────────────┼───────────────┤\n",
       "│ dense_3 (\u001b[38;5;33mDense\u001b[0m)                 │ (\u001b[38;5;45mNone\u001b[0m, \u001b[38;5;34m9\u001b[0m)              │           \u001b[38;5;34m297\u001b[0m │\n",
       "└─────────────────────────────────┴────────────────────────┴───────────────┘\n"
      ]
     },
     "metadata": {},
     "output_type": "display_data"
    },
    {
     "data": {
      "text/html": [
       "<pre style=\"white-space:pre;overflow-x:auto;line-height:normal;font-family:Menlo,'DejaVu Sans Mono',consolas,'Courier New',monospace\"><span style=\"font-weight: bold\"> Total params: </span><span style=\"color: #00af00; text-decoration-color: #00af00\">6,302,217</span> (24.04 MB)\n",
       "</pre>\n"
      ],
      "text/plain": [
       "\u001b[1m Total params: \u001b[0m\u001b[38;5;34m6,302,217\u001b[0m (24.04 MB)\n"
      ]
     },
     "metadata": {},
     "output_type": "display_data"
    },
    {
     "data": {
      "text/html": [
       "<pre style=\"white-space:pre;overflow-x:auto;line-height:normal;font-family:Menlo,'DejaVu Sans Mono',consolas,'Courier New',monospace\"><span style=\"font-weight: bold\"> Trainable params: </span><span style=\"color: #00af00; text-decoration-color: #00af00\">6,302,217</span> (24.04 MB)\n",
       "</pre>\n"
      ],
      "text/plain": [
       "\u001b[1m Trainable params: \u001b[0m\u001b[38;5;34m6,302,217\u001b[0m (24.04 MB)\n"
      ]
     },
     "metadata": {},
     "output_type": "display_data"
    },
    {
     "data": {
      "text/html": [
       "<pre style=\"white-space:pre;overflow-x:auto;line-height:normal;font-family:Menlo,'DejaVu Sans Mono',consolas,'Courier New',monospace\"><span style=\"font-weight: bold\"> Non-trainable params: </span><span style=\"color: #00af00; text-decoration-color: #00af00\">0</span> (0.00 B)\n",
       "</pre>\n"
      ],
      "text/plain": [
       "\u001b[1m Non-trainable params: \u001b[0m\u001b[38;5;34m0\u001b[0m (0.00 B)\n"
      ]
     },
     "metadata": {},
     "output_type": "display_data"
    }
   ],
   "source": [
    "model.summary()"
   ]
  },
  {
   "cell_type": "markdown",
   "id": "2b329304",
   "metadata": {
    "papermill": {
     "duration": 0.014049,
     "end_time": "2024-10-23T16:43:31.053287",
     "exception": false,
     "start_time": "2024-10-23T16:43:31.039238",
     "status": "completed"
    },
    "tags": []
   },
   "source": [
    "**Model.compile**"
   ]
  },
  {
   "cell_type": "code",
   "execution_count": 19,
   "id": "a7a299d2",
   "metadata": {
    "execution": {
     "iopub.execute_input": "2024-10-23T16:43:31.084776Z",
     "iopub.status.busy": "2024-10-23T16:43:31.084250Z",
     "iopub.status.idle": "2024-10-23T16:43:31.104214Z",
     "shell.execute_reply": "2024-10-23T16:43:31.102796Z"
    },
    "papermill": {
     "duration": 0.039443,
     "end_time": "2024-10-23T16:43:31.107126",
     "exception": false,
     "start_time": "2024-10-23T16:43:31.067683",
     "status": "completed"
    },
    "tags": []
   },
   "outputs": [],
   "source": [
    "model.compile(optimizer='adam',loss='binary_crossentropy', metrics=['accuracy'])"
   ]
  },
  {
   "cell_type": "markdown",
   "id": "680d7799",
   "metadata": {
    "papermill": {
     "duration": 0.013698,
     "end_time": "2024-10-23T16:43:31.134824",
     "exception": false,
     "start_time": "2024-10-23T16:43:31.121126",
     "status": "completed"
    },
    "tags": []
   },
   "source": [
    "# X ve Y verilerinin tiplerini düzeltmek. Y Sparse layerden Dense layer çevirme."
   ]
  },
  {
   "cell_type": "code",
   "execution_count": 20,
   "id": "95dfe84e",
   "metadata": {
    "execution": {
     "iopub.execute_input": "2024-10-23T16:43:31.165770Z",
     "iopub.status.busy": "2024-10-23T16:43:31.164488Z",
     "iopub.status.idle": "2024-10-23T16:43:31.171497Z",
     "shell.execute_reply": "2024-10-23T16:43:31.170087Z"
    },
    "papermill": {
     "duration": 0.025799,
     "end_time": "2024-10-23T16:43:31.174631",
     "exception": false,
     "start_time": "2024-10-23T16:43:31.148832",
     "status": "completed"
    },
    "tags": []
   },
   "outputs": [
    {
     "name": "stdout",
     "output_type": "stream",
     "text": [
      "float64\n",
      "float32\n"
     ]
    }
   ],
   "source": [
    "print(y_train.dtype)\n",
    "print(x_train.dtype)"
   ]
  },
  {
   "cell_type": "code",
   "execution_count": 21,
   "id": "57b9aad1",
   "metadata": {
    "execution": {
     "iopub.execute_input": "2024-10-23T16:43:31.206066Z",
     "iopub.status.busy": "2024-10-23T16:43:31.205626Z",
     "iopub.status.idle": "2024-10-23T16:43:31.212523Z",
     "shell.execute_reply": "2024-10-23T16:43:31.211212Z"
    },
    "papermill": {
     "duration": 0.025809,
     "end_time": "2024-10-23T16:43:31.215210",
     "exception": false,
     "start_time": "2024-10-23T16:43:31.189401",
     "status": "completed"
    },
    "tags": []
   },
   "outputs": [
    {
     "name": "stdout",
     "output_type": "stream",
     "text": [
      "y_train is a sparse array.\n"
     ]
    }
   ],
   "source": [
    "if issparse(y_train):\n",
    "    print(\"y_train is a sparse array.\")\n",
    "else:\n",
    "    print(\"y_train is not a sparse array.\")"
   ]
  },
  {
   "cell_type": "code",
   "execution_count": 22,
   "id": "2f7cefae",
   "metadata": {
    "execution": {
     "iopub.execute_input": "2024-10-23T16:43:31.248258Z",
     "iopub.status.busy": "2024-10-23T16:43:31.247803Z",
     "iopub.status.idle": "2024-10-23T16:43:31.256447Z",
     "shell.execute_reply": "2024-10-23T16:43:31.255250Z"
    },
    "papermill": {
     "duration": 0.028561,
     "end_time": "2024-10-23T16:43:31.259194",
     "exception": false,
     "start_time": "2024-10-23T16:43:31.230633",
     "status": "completed"
    },
    "tags": []
   },
   "outputs": [],
   "source": [
    "if issparse(y_train):\n",
    "    y_train = y_train.toarray()\n",
    "\n",
    "y_train = tf.convert_to_tensor(y_train, dtype=tf.float32)  # dense tensör ve float32 formatına dönüştür"
   ]
  },
  {
   "cell_type": "markdown",
   "id": "a0e75d44",
   "metadata": {
    "papermill": {
     "duration": 0.014732,
     "end_time": "2024-10-23T16:43:31.288680",
     "exception": false,
     "start_time": "2024-10-23T16:43:31.273948",
     "status": "completed"
    },
    "tags": []
   },
   "source": [
    "**bütün Y verimizi spare tensordan dense tensora dönüştürmemiz lazım.**"
   ]
  },
  {
   "cell_type": "code",
   "execution_count": 23,
   "id": "ad798190",
   "metadata": {
    "execution": {
     "iopub.execute_input": "2024-10-23T16:43:31.320285Z",
     "iopub.status.busy": "2024-10-23T16:43:31.319809Z",
     "iopub.status.idle": "2024-10-23T16:43:31.327356Z",
     "shell.execute_reply": "2024-10-23T16:43:31.326115Z"
    },
    "papermill": {
     "duration": 0.026561,
     "end_time": "2024-10-23T16:43:31.330031",
     "exception": false,
     "start_time": "2024-10-23T16:43:31.303470",
     "status": "completed"
    },
    "tags": []
   },
   "outputs": [],
   "source": [
    "#val için\n",
    "y_val = y_val.toarray()\n",
    "y_val = tf.convert_to_tensor(y_val, dtype=tf.float32) \n",
    "#temporary için\n",
    "y_temporary = y_temporary.toarray()\n",
    "y_temporary = tf.convert_to_tensor(y_temporary, dtype=tf.float32) "
   ]
  },
  {
   "cell_type": "code",
   "execution_count": 24,
   "id": "5d1a0404",
   "metadata": {
    "execution": {
     "iopub.execute_input": "2024-10-23T16:43:31.361631Z",
     "iopub.status.busy": "2024-10-23T16:43:31.360639Z",
     "iopub.status.idle": "2024-10-23T16:43:31.367639Z",
     "shell.execute_reply": "2024-10-23T16:43:31.366229Z"
    },
    "papermill": {
     "duration": 0.025644,
     "end_time": "2024-10-23T16:43:31.370269",
     "exception": false,
     "start_time": "2024-10-23T16:43:31.344625",
     "status": "completed"
    },
    "tags": []
   },
   "outputs": [
    {
     "name": "stdout",
     "output_type": "stream",
     "text": [
      "y_train is not a sparse array.\n"
     ]
    }
   ],
   "source": [
    "if issparse(y_train):\n",
    "    print(\"y_train is a sparse array.\")\n",
    "else:\n",
    "    print(\"y_train is not a sparse array.\")"
   ]
  },
  {
   "cell_type": "code",
   "execution_count": 25,
   "id": "5b26d8da",
   "metadata": {
    "execution": {
     "iopub.execute_input": "2024-10-23T16:43:31.400963Z",
     "iopub.status.busy": "2024-10-23T16:43:31.400486Z",
     "iopub.status.idle": "2024-10-23T16:43:31.406585Z",
     "shell.execute_reply": "2024-10-23T16:43:31.405500Z"
    },
    "papermill": {
     "duration": 0.024527,
     "end_time": "2024-10-23T16:43:31.409148",
     "exception": false,
     "start_time": "2024-10-23T16:43:31.384621",
     "status": "completed"
    },
    "tags": []
   },
   "outputs": [
    {
     "name": "stdout",
     "output_type": "stream",
     "text": [
      "(7200, 128, 128, 3)\n",
      "(7200, 9)\n"
     ]
    }
   ],
   "source": [
    "print(x_train.shape)\n",
    "print(y_train.shape)"
   ]
  },
  {
   "cell_type": "markdown",
   "id": "c4cb69a1",
   "metadata": {
    "papermill": {
     "duration": 0.014965,
     "end_time": "2024-10-23T16:43:31.438853",
     "exception": false,
     "start_time": "2024-10-23T16:43:31.423888",
     "status": "completed"
    },
    "tags": []
   },
   "source": [
    "**Model.fit**"
   ]
  },
  {
   "cell_type": "code",
   "execution_count": 26,
   "id": "d91bd3c8",
   "metadata": {
    "execution": {
     "iopub.execute_input": "2024-10-23T16:43:31.469581Z",
     "iopub.status.busy": "2024-10-23T16:43:31.469118Z",
     "iopub.status.idle": "2024-10-23T16:43:31.474989Z",
     "shell.execute_reply": "2024-10-23T16:43:31.473942Z"
    },
    "papermill": {
     "duration": 0.024249,
     "end_time": "2024-10-23T16:43:31.477525",
     "exception": false,
     "start_time": "2024-10-23T16:43:31.453276",
     "status": "completed"
    },
    "tags": []
   },
   "outputs": [
    {
     "name": "stdout",
     "output_type": "stream",
     "text": [
      "<dtype: 'float32'>\n"
     ]
    }
   ],
   "source": [
    "print(y_train.dtype)"
   ]
  },
  {
   "cell_type": "code",
   "execution_count": 27,
   "id": "f744f0b9",
   "metadata": {
    "execution": {
     "iopub.execute_input": "2024-10-23T16:43:31.508750Z",
     "iopub.status.busy": "2024-10-23T16:43:31.508296Z",
     "iopub.status.idle": "2024-10-23T16:47:26.718870Z",
     "shell.execute_reply": "2024-10-23T16:47:26.717665Z"
    },
    "papermill": {
     "duration": 235.229513,
     "end_time": "2024-10-23T16:47:26.721659",
     "exception": false,
     "start_time": "2024-10-23T16:43:31.492146",
     "status": "completed"
    },
    "tags": []
   },
   "outputs": [
    {
     "name": "stdout",
     "output_type": "stream",
     "text": [
      "Epoch 1/20\n",
      "\u001b[1m225/225\u001b[0m \u001b[32m━━━━━━━━━━━━━━━━━━━━\u001b[0m\u001b[37m\u001b[0m \u001b[1m14s\u001b[0m 53ms/step - accuracy: 0.2742 - loss: 0.4889 - val_accuracy: 0.6178 - val_loss: 0.2251\n",
      "Epoch 2/20\n",
      "\u001b[1m225/225\u001b[0m \u001b[32m━━━━━━━━━━━━━━━━━━━━\u001b[0m\u001b[37m\u001b[0m \u001b[1m11s\u001b[0m 48ms/step - accuracy: 0.5991 - loss: 0.2237 - val_accuracy: 0.6311 - val_loss: 0.2037\n",
      "Epoch 3/20\n",
      "\u001b[1m225/225\u001b[0m \u001b[32m━━━━━━━━━━━━━━━━━━━━\u001b[0m\u001b[37m\u001b[0m \u001b[1m11s\u001b[0m 47ms/step - accuracy: 0.7074 - loss: 0.1827 - val_accuracy: 0.7144 - val_loss: 0.1603\n",
      "Epoch 4/20\n",
      "\u001b[1m225/225\u001b[0m \u001b[32m━━━━━━━━━━━━━━━━━━━━\u001b[0m\u001b[37m\u001b[0m \u001b[1m10s\u001b[0m 45ms/step - accuracy: 0.7524 - loss: 0.1561 - val_accuracy: 0.7833 - val_loss: 0.1336\n",
      "Epoch 5/20\n",
      "\u001b[1m225/225\u001b[0m \u001b[32m━━━━━━━━━━━━━━━━━━━━\u001b[0m\u001b[37m\u001b[0m \u001b[1m10s\u001b[0m 45ms/step - accuracy: 0.8163 - loss: 0.1201 - val_accuracy: 0.8311 - val_loss: 0.1129\n",
      "Epoch 6/20\n",
      "\u001b[1m225/225\u001b[0m \u001b[32m━━━━━━━━━━━━━━━━━━━━\u001b[0m\u001b[37m\u001b[0m \u001b[1m10s\u001b[0m 44ms/step - accuracy: 0.8571 - loss: 0.1001 - val_accuracy: 0.8656 - val_loss: 0.0932\n",
      "Epoch 7/20\n",
      "\u001b[1m225/225\u001b[0m \u001b[32m━━━━━━━━━━━━━━━━━━━━\u001b[0m\u001b[37m\u001b[0m \u001b[1m11s\u001b[0m 46ms/step - accuracy: 0.8747 - loss: 0.0889 - val_accuracy: 0.8300 - val_loss: 0.1094\n",
      "Epoch 8/20\n",
      "\u001b[1m225/225\u001b[0m \u001b[32m━━━━━━━━━━━━━━━━━━━━\u001b[0m\u001b[37m\u001b[0m \u001b[1m10s\u001b[0m 45ms/step - accuracy: 0.8977 - loss: 0.0743 - val_accuracy: 0.8667 - val_loss: 0.0864\n",
      "Epoch 9/20\n",
      "\u001b[1m225/225\u001b[0m \u001b[32m━━━━━━━━━━━━━━━━━━━━\u001b[0m\u001b[37m\u001b[0m \u001b[1m10s\u001b[0m 46ms/step - accuracy: 0.9137 - loss: 0.0670 - val_accuracy: 0.9389 - val_loss: 0.0533\n",
      "Epoch 10/20\n",
      "\u001b[1m225/225\u001b[0m \u001b[32m━━━━━━━━━━━━━━━━━━━━\u001b[0m\u001b[37m\u001b[0m \u001b[1m20s\u001b[0m 45ms/step - accuracy: 0.9376 - loss: 0.0477 - val_accuracy: 0.8878 - val_loss: 0.0834\n",
      "Epoch 11/20\n",
      "\u001b[1m225/225\u001b[0m \u001b[32m━━━━━━━━━━━━━━━━━━━━\u001b[0m\u001b[37m\u001b[0m \u001b[1m10s\u001b[0m 44ms/step - accuracy: 0.9320 - loss: 0.0527 - val_accuracy: 0.9267 - val_loss: 0.0518\n",
      "Epoch 12/20\n",
      "\u001b[1m225/225\u001b[0m \u001b[32m━━━━━━━━━━━━━━━━━━━━\u001b[0m\u001b[37m\u001b[0m \u001b[1m10s\u001b[0m 44ms/step - accuracy: 0.9472 - loss: 0.0416 - val_accuracy: 0.8956 - val_loss: 0.0707\n",
      "Epoch 13/20\n",
      "\u001b[1m225/225\u001b[0m \u001b[32m━━━━━━━━━━━━━━━━━━━━\u001b[0m\u001b[37m\u001b[0m \u001b[1m11s\u001b[0m 48ms/step - accuracy: 0.9631 - loss: 0.0306 - val_accuracy: 0.8811 - val_loss: 0.0770\n",
      "Epoch 14/20\n",
      "\u001b[1m225/225\u001b[0m \u001b[32m━━━━━━━━━━━━━━━━━━━━\u001b[0m\u001b[37m\u001b[0m \u001b[1m10s\u001b[0m 46ms/step - accuracy: 0.9568 - loss: 0.0345 - val_accuracy: 0.8656 - val_loss: 0.0901\n",
      "Epoch 15/20\n",
      "\u001b[1m225/225\u001b[0m \u001b[32m━━━━━━━━━━━━━━━━━━━━\u001b[0m\u001b[37m\u001b[0m \u001b[1m10s\u001b[0m 46ms/step - accuracy: 0.9677 - loss: 0.0288 - val_accuracy: 0.9367 - val_loss: 0.0454\n",
      "Epoch 16/20\n",
      "\u001b[1m225/225\u001b[0m \u001b[32m━━━━━━━━━━━━━━━━━━━━\u001b[0m\u001b[37m\u001b[0m \u001b[1m11s\u001b[0m 50ms/step - accuracy: 0.9825 - loss: 0.0161 - val_accuracy: 0.8978 - val_loss: 0.0681\n",
      "Epoch 17/20\n",
      "\u001b[1m225/225\u001b[0m \u001b[32m━━━━━━━━━━━━━━━━━━━━\u001b[0m\u001b[37m\u001b[0m \u001b[1m11s\u001b[0m 48ms/step - accuracy: 0.9627 - loss: 0.0296 - val_accuracy: 0.9444 - val_loss: 0.0408\n",
      "Epoch 18/20\n",
      "\u001b[1m225/225\u001b[0m \u001b[32m━━━━━━━━━━━━━━━━━━━━\u001b[0m\u001b[37m\u001b[0m \u001b[1m11s\u001b[0m 47ms/step - accuracy: 0.9789 - loss: 0.0209 - val_accuracy: 0.9233 - val_loss: 0.0560\n",
      "Epoch 19/20\n",
      "\u001b[1m225/225\u001b[0m \u001b[32m━━━━━━━━━━━━━━━━━━━━\u001b[0m\u001b[37m\u001b[0m \u001b[1m11s\u001b[0m 50ms/step - accuracy: 0.9623 - loss: 0.0287 - val_accuracy: 0.9433 - val_loss: 0.0442\n",
      "Epoch 20/20\n",
      "\u001b[1m225/225\u001b[0m \u001b[32m━━━━━━━━━━━━━━━━━━━━\u001b[0m\u001b[37m\u001b[0m \u001b[1m20s\u001b[0m 48ms/step - accuracy: 0.9677 - loss: 0.0253 - val_accuracy: 0.8456 - val_loss: 0.1225\n"
     ]
    }
   ],
   "source": [
    "history = model.fit(x_train, y_train, epochs=20, batch_size=32, validation_data=(x_val, y_val))"
   ]
  },
  {
   "cell_type": "code",
   "execution_count": 28,
   "id": "f81095c6",
   "metadata": {
    "execution": {
     "iopub.execute_input": "2024-10-23T16:47:27.249558Z",
     "iopub.status.busy": "2024-10-23T16:47:27.249100Z",
     "iopub.status.idle": "2024-10-23T16:47:27.572700Z",
     "shell.execute_reply": "2024-10-23T16:47:27.571537Z"
    },
    "papermill": {
     "duration": 0.590017,
     "end_time": "2024-10-23T16:47:27.575468",
     "exception": false,
     "start_time": "2024-10-23T16:47:26.985451",
     "status": "completed"
    },
    "tags": []
   },
   "outputs": [
    {
     "data": {
      "image/png": "[encoded data removed]",
      "text/plain": [
       "<Figure size 1200x500 with 1 Axes>"
      ]
     },
     "metadata": {},
     "output_type": "display_data"
    }
   ],
   "source": [
    "plt.figure(figsize=(12, 5))\n",
    "\n",
    "# Eğitim ve doğrulama kayıplarını çizme\n",
    "plt.plot(history.history['loss'], label='Training Loss')\n",
    "plt.plot(history.history['val_loss'], label='Validation Loss')\n",
    "\n",
    "# Grafiği düzenleme\n",
    "plt.title('Model Loss')\n",
    "plt.xlabel('Epoch')\n",
    "plt.ylabel('Loss')\n",
    "plt.legend()  # Legend ekle\n",
    "plt.show()"
   ]
  }
 ],
 "metadata": {
  "kaggle": {
   "accelerator": "none",
   "dataSources": [
    {
     "datasetId": 1165452,
     "sourceId": 2170465,
     "sourceType": "datasetVersion"
    }
   ],
   "dockerImageVersionId": 30786,
   "isGpuEnabled": false,
   "isInternetEnabled": false,
   "language": "python",
   "sourceType": "notebook"
  },
  "kernelspec": {
   "display_name": "Python 3",
   "language": "python",
   "name": "python3"
  },
  "language_info": {
   "codemirror_mode": {
    "name": "ipython",
    "version": 3
   },
   "file_extension": ".py",
   "mimetype": "text/x-python",
   "name": "python",
   "nbconvert_exporter": "python",
   "pygments_lexer": "ipython3",
   "version": "3.10.14"
  },
  "papermill": {
   "default_parameters": {},
   "duration": 459.732664,
   "end_time": "2024-10-23T16:47:29.892756",
   "environment_variables": {},
   "exception": null,
   "input_path": "__notebook__.ipynb",
   "output_path": "__notebook__.ipynb",
   "parameters": {},
   "start_time": "2024-10-23T16:39:50.160092",
   "version": "2.6.0"
  }
 },
 "nbformat": 4,
 "nbformat_minor": 5
}
